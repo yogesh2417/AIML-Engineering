{
 "cells": [
  {
   "cell_type": "code",
   "execution_count": null,
   "id": "439318c1",
   "metadata": {},
   "outputs": [],
   "source": [
    "import ollama\n",
    "messages = [\n",
    "    {\"role\": \"system\", \"content\": \"You are a helpful assistant.\"},\n",
    "    {\"role\": \"user\", \"content\": \"2+2\"}\n",
    "]\n",
    "\n",
    "result = ollama.chat(model=\"llama3.2\", messages=messages)\n",
    "print(result.message.content)"
   ]
  },
  {
   "cell_type": "code",
   "execution_count": null,
   "id": "29487c85",
   "metadata": {},
   "outputs": [],
   "source": []
  }
 ],
 "metadata": {
  "kernelspec": {
   "display_name": "venv",
   "language": "python",
   "name": "python3"
  },
  "language_info": {
   "codemirror_mode": {
    "name": "ipython",
    "version": 3
   },
   "file_extension": ".py",
   "mimetype": "text/x-python",
   "name": "python",
   "nbconvert_exporter": "python",
   "pygments_lexer": "ipython3",
   "version": "3.12.10"
  }
 },
 "nbformat": 4,
 "nbformat_minor": 5
}
