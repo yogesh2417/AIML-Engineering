{
 "cells": [
  {
   "cell_type": "code",
   "execution_count": null,
   "id": "b9ff8700",
   "metadata": {},
   "outputs": [],
   "source": [
    "import glob\n",
    "from openai import OpenAI\n",
    "import gradio as gr\n",
    "\n",
    "openai = OpenAI(base_url='http://localhost:11434/v1', api_key='ollama')\n",
    "\n",
    "context = {}\n",
    "\n",
    "employees = glob.glob('knowledge-base/employees/*')\n",
    "\n",
    "for employee in employees:\n",
    "    name = employee.split(' ')[-1][:-3]\n",
    "    doc=''\n",
    "    with open(employee, 'r', encoding='utf-8') as f:\n",
    "        doc= f.read()\n",
    "    context[name]=doc\n",
    "\n",
    "def get_context(message):\n",
    "    relevant_context=[] \n",
    "    for title, details in context.items():\n",
    "        if title.lower() in message.lower():\n",
    "            relevant_context.append('\\n\\nAdditional context might help you to answer the questions:\\n\\n')\n",
    "            relevant_context.append(details)\n",
    "    if relevant_context==[]:\n",
    "        relevant_context.append(message)\n",
    "\n",
    "    return str(relevant_context) \n",
    "\n",
    "system_message = 'You are an expert in answering accurate questions about Insurellm, the Insurance Tech Company.Give brief, accurate answers.'\\\n",
    "'If you don\"t know the answer, say so. Do not make anything up if you haven\"t been provided with relevant context.'       \n",
    "\n",
    "def chat(message, history):\n",
    "    message = get_context(message)\n",
    "    messages = [{\"role\": \"system\", \"content\": system_message}] + history + [{\"role\": \"user\", \"content\": message}]\n",
    "\n",
    "    stream = openai.chat.completions.create(model=\"llama3.2\", messages=messages, stream=True)\n",
    "\n",
    "    response=''\n",
    "    for chunk in stream:\n",
    "        response += chunk.choices[0].delta.content or ''\n",
    "        yield response\n",
    "\n",
    "gr.ChatInterface(fn=chat, type='messages').launch()        \n"
   ]
  }
 ],
 "metadata": {
  "kernelspec": {
   "display_name": "venv",
   "language": "python",
   "name": "python3"
  },
  "language_info": {
   "codemirror_mode": {
    "name": "ipython",
    "version": 3
   },
   "file_extension": ".py",
   "mimetype": "text/x-python",
   "name": "python",
   "nbconvert_exporter": "python",
   "pygments_lexer": "ipython3",
   "version": "3.12.10"
  }
 },
 "nbformat": 4,
 "nbformat_minor": 5
}
