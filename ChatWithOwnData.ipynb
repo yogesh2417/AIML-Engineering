{
 "cells": [
  {
   "cell_type": "code",
   "execution_count": null,
   "id": "651a1954",
   "metadata": {},
   "outputs": [],
   "source": [
    "import ollama\n",
    "import gradio as gr\n",
    "import json\n",
    "\n",
    "ticket_prices = {\"london\": \"$500\", \"paris\": \"$700\", \"tokyo\": \"$400\"}\n",
    "\n",
    "def get_ticket_price(destination_city):\n",
    "    return ticket_prices.get(destination_city.lower(), \"Unknown\")\n",
    "\n",
    "price_func={\n",
    "    \"name\": \"get_ticket_price\",\n",
    "    \"description\": \"Get the price of a return ticket to the destination city. Call this function whenever you need to know the ticket price, for example when a customer asks 'How mcuh is a ticket price to this city'\",\n",
    "    \"parameters\":{\n",
    "        \"type\": \"object\",\n",
    "        \"properties\":{\n",
    "            \"destination_city\":{\n",
    "                \"type\": \"string\",\n",
    "                \"description\": \"The city that the customer wants to travel to\"\n",
    "            }\n",
    "        },\n",
    "        \"required\": [\"destination_city\"],\n",
    "        \"additionalProperties\": False\n",
    "    }\n",
    "}\n",
    "\n",
    "tools = [{\"type\": \"function\", \"function\": price_func}]\n",
    "\n",
    "\n",
    "def chat(message, history):\n",
    "    messages = [{\"role\": \"system\", \"content\": \"You are a helpful assistant.\"}] + history + [{\"role\": \"user\", \"content\": message}]\n",
    "\n",
    "    response = ollama.chat(model=\"llama3.2\", messages=messages, tools=tools)\n",
    "\n",
    "    if response['message'].get('tool_calls'):\n",
    "        tool_response = handle_tool_call(response['message'])\n",
    "        messages.append(response['message'])\n",
    "        messages.append(tool_response)\n",
    "\n",
    "        result = ollama.chat(model=\"llama3.2\", messages = messages)\n",
    "    return result.message.content\n",
    "\n",
    "def handle_tool_call(message):\n",
    "    tool_call = message['tool_calls'][0]\n",
    "    arguments = tool_call['function']['arguments']\n",
    "    city = arguments.get('destination_city')\n",
    "    price = get_ticket_price(city)\n",
    "    response={\n",
    "        \"role\": \"tool\",\n",
    "        \"content\": json.dumps({\"destination_city\": city, \"price\": price}),\n",
    "        #\"tool_call_id\": 0\n",
    "    }\n",
    "    return response\n",
    "\n",
    "gr.ChatInterface(fn=chat, type=\"messages\").launch(inbrowser=True)  "
   ]
  },
  {
   "cell_type": "code",
   "execution_count": null,
   "id": "f01a8d77",
   "metadata": {},
   "outputs": [],
   "source": []
  }
 ],
 "metadata": {
  "kernelspec": {
   "display_name": "venv",
   "language": "python",
   "name": "python3"
  },
  "language_info": {
   "codemirror_mode": {
    "name": "ipython",
    "version": 3
   },
   "file_extension": ".py",
   "mimetype": "text/x-python",
   "name": "python",
   "nbconvert_exporter": "python",
   "pygments_lexer": "ipython3",
   "version": "3.12.10"
  }
 },
 "nbformat": 4,
 "nbformat_minor": 5
}
