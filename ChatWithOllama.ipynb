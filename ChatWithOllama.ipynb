{
 "cells": [
  {
   "cell_type": "code",
   "execution_count": null,
   "id": "de61a202",
   "metadata": {},
   "outputs": [],
   "source": [
    "import ollama\n",
    "import gradio as gr\n",
    "\n",
    "def chat(message, history):\n",
    "    messages = [{\"role\": \"system\", \"content\": \"You are a helpful assistant.\"}] + history + [{\"role\": \"user\", \"content\": message}]\n",
    "\n",
    "    result = ollama.chat(model=\"llama3.2\", messages=messages)\n",
    "\n",
    "    return result.message.content\n",
    "\n",
    "gr.ChatInterface(fn=chat, type=\"messages\").launch(inbrowser=True)    "
   ]
  }
 ],
 "metadata": {
  "kernelspec": {
   "display_name": "venv",
   "language": "python",
   "name": "python3"
  },
  "language_info": {
   "codemirror_mode": {
    "name": "ipython",
    "version": 3
   },
   "file_extension": ".py",
   "mimetype": "text/x-python",
   "name": "python",
   "nbconvert_exporter": "python",
   "pygments_lexer": "ipython3",
   "version": "3.12.10"
  }
 },
 "nbformat": 4,
 "nbformat_minor": 5
}
