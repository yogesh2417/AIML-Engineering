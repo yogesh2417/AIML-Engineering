{
 "cells": [
  {
   "cell_type": "code",
   "execution_count": null,
   "id": "48535d92",
   "metadata": {},
   "outputs": [],
   "source": [
    "import os\n",
    "import glob\n",
    "from langchain.document_loaders import DirectoryLoader, TextLoader\n",
    "from langchain.text_splitter import CharacterTextSplitter\n",
    "from langchain_openai import ChatOpenAI, OpenAIEmbeddings\n",
    "from langchain_community.vectorstores import FAISS\n",
    "from langchain.memory import ConversationBufferMemory\n",
    "from langchain.chains import ConversationRetrievalChain\n",
    "from langchain_core.callbacks import StdOutCallbackHandler\n",
    "from langchain_community.embeddings import OllamaEmbeddings\n",
    "import gradio as gr\n",
    "\n",
    "folders = glob.glob('knowledge-base/*')\n",
    "\n",
    "text_loaders_kwargs={'encoding':'utf-8'}\n",
    "\n",
    "documents=[]\n",
    "\n",
    "for folder in folders:\n",
    "    doc_type = os.path.basename(folder)\n",
    "    loader = DirectoryLoader(folder, glob='**/*.md', loader_cls=TextLoader, loader_kwargs=text_loader_kwargs)\n",
    "    folder_docs = loader.load()\n",
    "    for doc in folder_docs:\n",
    "        doc.metadata['doc_type'] = doc_type\n",
    "        documents.append(doc)\n",
    "\n",
    "text_splitter = CharacterTextSplitter(chunk_size=1000, chunk_overlap=200)\n",
    "chunks = text_splitter.split_documents(documents)\n",
    "\n",
    "embeddings = OpenAIEmbeddings(base_url='http://localhost:11434/v1', api_key='ollama')\n",
    "\n",
    "vector_store = FAISS.from_documents(chunk,embeddings)\n",
    "\n",
    "llm = ChatOpenAI(model=\"llama3.2\", api_key=\"ollama\", temperature=0.7)\n",
    "\n",
    "memory = ConversationBufferMemory(memory_key='chat_history', return_messages=True)\n",
    "\n",
    "retriever = vector_store.as_retriever(search_kwargs={'k':25})\n",
    "\n",
    "conversation_chain = ConversationRetrievalChain.fromm_llm(llm=llm, retriever=retriever, memory=memory, callbacks=[StdOutCallbackHandler()])\n",
    "\n",
    "def chat(message, history):\n",
    "    result = conversation_chain.invoke({'question': message})\n",
    "    return result['answer']\n",
    "\n",
    "gr.ChatInterface(fn=chat, type='messages').launch()    \n",
    "\n",
    "\n",
    "\n"
   ]
  }
 ],
 "metadata": {
  "kernelspec": {
   "display_name": "venv",
   "language": "python",
   "name": "python3"
  },
  "language_info": {
   "codemirror_mode": {
    "name": "ipython",
    "version": 3
   },
   "file_extension": ".py",
   "mimetype": "text/x-python",
   "name": "python",
   "nbconvert_exporter": "python",
   "pygments_lexer": "ipython3",
   "version": "3.12.10"
  }
 },
 "nbformat": 4,
 "nbformat_minor": 5
}
