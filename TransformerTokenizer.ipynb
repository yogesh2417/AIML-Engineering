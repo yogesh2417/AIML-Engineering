{
 "cells": [
  {
   "cell_type": "code",
   "execution_count": null,
   "id": "3552c210",
   "metadata": {},
   "outputs": [],
   "source": [
    "#To run transformers we would need GPU. Hence, we can you `https://colab.research.google.com/` with free T4 Runtime and execute below code.\n",
    "\n",
    "#Log-in to HuggingFace.co and generate write TOKEN and put it in colab secret\n",
    "\n",
    "!pip install -q --upgrade torch==2.5.1+cu124 torchvision==0.20.1+cu124 torchaudio==2.5.1+cu124 --index-url https://download.pytorch.org/whl/cu124\n",
    "\n",
    "!pip install -q bitsandbytes==0.46.0 transformers==4.48.3 accelerate==1.3.0\n",
    "\n",
    "\n",
    "from huggingface_hub import login\n",
    "from transformers import AutoTokenizer, AutoModelForCausalLM,  BitsAndBytesConfig\n",
    "import torch\n",
    "from google.colab import userdata\n",
    "\n",
    "\n",
    "hf_token=userdata.get('HF_TOKEN')\n",
    "\n",
    "login(hf_token, add_to_git_credential=True)\n",
    "\n",
    "code_qwen = \"Qwen/CodeQwen1.5-7B-Chat\"\n",
    "\n",
    "messages = [\n",
    "    {\"role\": \"system\", \"content\": \"You are a helpful assistant\"},\n",
    "    {\"role\": \"user\", \"content\": \"Tell me a joke.\"}\n",
    "]\n",
    "\n",
    "quant_config= BitsAndBytesConfig(\n",
    "    load_in_4bit=True,\n",
    "    bnb_4bit_use_double_quant=True,\n",
    "    bnb_4bit_compute_dtype=torch.bfloat16,\n",
    "    bnb_4bit_quant_type=\"nf4\"\n",
    ")\n",
    "\n",
    "tokenizer = AutoTokenizer.from_pretrained(code_qwen)   #initialize tokenizer\n",
    "tokenizer.pad_token=tokenizer.eos_token    #add padding\n",
    "\n",
    "inputs = tokenizer.apply_chat_template(messages, return_tensors='pt').to(\"cuda\")    #tokenize message\n",
    "\n",
    "model = AutoModelForCausalLM.from_pretrained(code_qwen, device_map=\"auto\", quantization_config=quant_config) #initialize llm model\n",
    "\n",
    "outputs=model.generate(inputs, max_new_tokens=80)   #use tokenized message to generate output\n",
    "\n",
    "print(tokenizer.decode(outputs[0]))\n",
    "\n"
   ]
  }
 ],
 "metadata": {
  "kernelspec": {
   "display_name": "venv",
   "language": "python",
   "name": "python3"
  },
  "language_info": {
   "codemirror_mode": {
    "name": "ipython",
    "version": 3
   },
   "file_extension": ".py",
   "mimetype": "text/x-python",
   "name": "python",
   "nbconvert_exporter": "python",
   "pygments_lexer": "ipython3",
   "version": "3.12.10"
  }
 },
 "nbformat": 4,
 "nbformat_minor": 5
}
