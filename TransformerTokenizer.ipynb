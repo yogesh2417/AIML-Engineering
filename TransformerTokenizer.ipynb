{
 "cells": [
  {
   "cell_type": "code",
   "execution_count": null,
   "id": "5a8bf02b",
   "metadata": {},
   "outputs": [],
   "source": [
    "import os\n",
    "from dotenv import load_dotenv\n",
    "from huggingface_hub import login, InferenceClient\n",
    "from transformers import AutoTokenizer\n",
    "\n",
    "load_dotenv(override=True)\n",
    "hf_token=os.getenv('HF_TOKEN')\n",
    "\n",
    "login(hf_token, add_to_git_credential=True)\n",
    "\n",
    "code_qwen = \"Qwen/CodeQwen1.5-7B-Chat\"\n",
    "CODE_QWEN_URL = \"https://h1vdol7jxhje3mpn.us-east-1.aws.endpoints.huggingface.cloud\"\n",
    "\n",
    "messages = [\n",
    "    {\"role\": \"system\", \"content\": \"You are a helpful assistant\"},\n",
    "    {\"role\": \"user\", \"content\": \"Tell me a joke.\"}\n",
    "]\n",
    "\n",
    "tokenizer = AutoTokenizer.pre_trained(code_qwen)\n",
    "text = tokenizer.apply_chat_templates(messages, tokenize=False, add_generation_prompt=True)\n",
    "\n",
    "client= InferenceClient(CODE_QWEN_URL, token=hf_token)\n",
    "stream = client.chat(text, stream=True, details=True, max_new_tokens=3000)\n",
    "\n",
    "result=\"\"\n",
    "for r in stream:\n",
    "    print(r.token.text, end=\"\")\n"
   ]
  }
 ],
 "metadata": {
  "kernelspec": {
   "display_name": "venv",
   "language": "python",
   "name": "python3"
  },
  "language_info": {
   "codemirror_mode": {
    "name": "ipython",
    "version": 3
   },
   "file_extension": ".py",
   "mimetype": "text/x-python",
   "name": "python",
   "nbconvert_exporter": "python",
   "pygments_lexer": "ipython3",
   "version": "3.12.10"
  }
 },
 "nbformat": 4,
 "nbformat_minor": 5
}
